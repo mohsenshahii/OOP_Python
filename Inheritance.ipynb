{
  "nbformat": 4,
  "nbformat_minor": 0,
  "metadata": {
    "colab": {
      "provenance": [],
      "authorship_tag": "ABX9TyOvtTUvlN8+eXJA4edg3LIn",
      "include_colab_link": true
    },
    "kernelspec": {
      "name": "python3",
      "display_name": "Python 3"
    },
    "language_info": {
      "name": "python"
    }
  },
  "cells": [
    {
      "cell_type": "markdown",
      "metadata": {
        "id": "view-in-github",
        "colab_type": "text"
      },
      "source": [
        "<a href=\"https://colab.research.google.com/github/mohsenshahii/object-oriented/blob/main/Inheritance.ipynb\" target=\"_parent\"><img src=\"https://colab.research.google.com/assets/colab-badge.svg\" alt=\"Open In Colab\"/></a>"
      ]
    },
    {
      "cell_type": "code",
      "execution_count": 1,
      "metadata": {
        "colab": {
          "base_uri": "https://localhost:8080/"
        },
        "id": "6kbdxbvxDS1m",
        "outputId": "4a056147-095f-4b29-8c54-087f861b0473"
      },
      "outputs": [
        {
          "output_type": "stream",
          "name": "stdout",
          "text": [
            "[Phone('jscPhonev10', 500, 5)]\n"
          ]
        }
      ],
      "source": [
        "import csv\n",
        "\n",
        "\n",
        "class Item:\n",
        "    pay_rate = 0.8 # The pay rate after 20% discount\n",
        "    all = []\n",
        "    def __init__(self, name: str, price: float, quantity=0):\n",
        "        # Run validations to the received arguments\n",
        "        assert price >= 0, f\"Price {price} is not greater than or equal to zero!\"\n",
        "        assert quantity >= 0, f\"Quantity {quantity} is not greater or equal to zero!\"\n",
        "\n",
        "        # Assign to self object\n",
        "        self.name = name\n",
        "        self.price = price\n",
        "        self.quantity = quantity\n",
        "\n",
        "        # Actions to execute\n",
        "        Item.all.append(self)\n",
        "\n",
        "    def calculate_total_price(self):\n",
        "        return self.price * self.quantity\n",
        "\n",
        "    def apply_discount(self):\n",
        "        self.price = self.price * self.pay_rate\n",
        "\n",
        "    @classmethod\n",
        "    def instantiate_from_csv(cls):\n",
        "        with open('items.csv', 'r') as f:\n",
        "            reader = csv.DictReader(f)\n",
        "            items = list(reader)\n",
        "\n",
        "        for item in items:\n",
        "            Item(\n",
        "                name=item.get('name'),\n",
        "                price=float(item.get('price')),\n",
        "                quantity=int(item.get('quantity')),\n",
        "            )\n",
        "\n",
        "    @staticmethod\n",
        "    def is_integer(num):\n",
        "        # We will count out the floats that are point zero\n",
        "        # For i.e: 5.0, 10.0\n",
        "        if isinstance(num, float):\n",
        "            # Count out the floats that are point zero\n",
        "            return num.is_integer()\n",
        "        elif isinstance(num, int):\n",
        "            return True\n",
        "        else:\n",
        "            return False\n",
        "\n",
        "    def __repr__(self):\n",
        "        return f\"{self.__class__.__name__}('{self.name}', {self.price}, {self.quantity})\"\n",
        "\n",
        "\n",
        "class Phone(Item):\n",
        "    def __init__(self, name: str, price: float, quantity=0, broken_phones=0):\n",
        "        # Call to super function to have access to all attributes / methods\n",
        "        super().__init__(\n",
        "            name, price, quantity\n",
        "        )\n",
        "\n",
        "        # Run validations to the received arguments\n",
        "        assert broken_phones >= 0, f\"Broken Phones {broken_phones} is not greater or equal to zero!\"\n",
        "\n",
        "        # Assign to self object\n",
        "        self.broken_phones = broken_phones\n",
        "\n",
        "phone1 = Phone(\"jscPhonev10\", 500, 5, 1)\n",
        "\n",
        "print(Item.all)"
      ]
    }
  ]
}
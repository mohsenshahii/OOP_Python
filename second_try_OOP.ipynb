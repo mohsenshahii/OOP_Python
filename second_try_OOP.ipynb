{
  "nbformat": 4,
  "nbformat_minor": 0,
  "metadata": {
    "colab": {
      "provenance": [],
      "authorship_tag": "ABX9TyPWbVSR7qcLSJNVvYx0ueXG",
      "include_colab_link": true
    },
    "kernelspec": {
      "name": "python3",
      "display_name": "Python 3"
    },
    "language_info": {
      "name": "python"
    }
  },
  "cells": [
    {
      "cell_type": "markdown",
      "metadata": {
        "id": "view-in-github",
        "colab_type": "text"
      },
      "source": [
        "<a href=\"https://colab.research.google.com/github/mohsenshahii/object-oriented/blob/main/second_try_OOP.ipynb\" target=\"_parent\"><img src=\"https://colab.research.google.com/assets/colab-badge.svg\" alt=\"Open In Colab\"/></a>"
      ]
    },
    {
      "cell_type": "code",
      "execution_count": null,
      "metadata": {
        "id": "ytDY5PCUQL0d"
      },
      "outputs": [],
      "source": []
    },
    {
      "cell_type": "code",
      "source": [
        "class Item:\n",
        "    def __init__(self, name: str, price: float, quantity=0):\n",
        "       \n",
        "        assert price >= 0, f\"Price {price} is not greater than or equal to zero!\"\n",
        "        assert quantity >= 0, f\"Quantity {quantity} is not greater or equal to zero!\"\n",
        "\n",
        "        self.name = name\n",
        "        self.price = price\n",
        "        self.quantity = quantity\n",
        "\n",
        "    def calculate_total_price(self):\n",
        "        return self.price * self.quantity\n",
        "\n",
        "item1 = Item(\"Phone\", 100, 1)\n",
        "item2 = Item(\"Laptop\", 1000, 3)\n",
        "\n",
        "print(item1.calculate_total_price())\n",
        "print(item2.calculate_total_price())"
      ],
      "metadata": {
        "colab": {
          "base_uri": "https://localhost:8080/"
        },
        "id": "ZkGn6rTFPpns",
        "outputId": "c06868cb-7bfe-4e0e-c362-e3c01a0efccd"
      },
      "execution_count": 1,
      "outputs": [
        {
          "output_type": "stream",
          "name": "stdout",
          "text": [
            "100\n",
            "3000\n"
          ]
        }
      ]
    }
  ]
}
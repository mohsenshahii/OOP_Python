{
  "nbformat": 4,
  "nbformat_minor": 0,
  "metadata": {
    "colab": {
      "provenance": [],
      "authorship_tag": "ABX9TyNsa+XJOkspwpzaN5o5EYfL",
      "include_colab_link": true
    },
    "kernelspec": {
      "name": "python3",
      "display_name": "Python 3"
    },
    "language_info": {
      "name": "python"
    }
  },
  "cells": [
    {
      "cell_type": "markdown",
      "metadata": {
        "id": "view-in-github",
        "colab_type": "text"
      },
      "source": [
        "<a href=\"https://colab.research.google.com/github/mohsenshahii/object-oriented/blob/main/third_try_OOP.ipynb\" target=\"_parent\"><img src=\"https://colab.research.google.com/assets/colab-badge.svg\" alt=\"Open In Colab\"/></a>"
      ]
    },
    {
      "cell_type": "code",
      "execution_count": 1,
      "metadata": {
        "colab": {
          "base_uri": "https://localhost:8080/"
        },
        "id": "mcKJkLHJRcXz",
        "outputId": "6d3a5eb1-1239-4085-c2db-c615b6ffa2dd"
      },
      "outputs": [
        {
          "output_type": "stream",
          "name": "stdout",
          "text": [
            "[Item('Phone', 100, 1), Item('Laptop', 1000, 3), Item('Cable', 10, 5), Item('Mouse', 50, 5), Item('Keyboard', 75, 5)]\n"
          ]
        }
      ],
      "source": [
        "class Item:\n",
        "    pay_rate = 0.8 # The pay rate after 20% discount\n",
        "    all = []\n",
        "    def __init__(self, name: str, price: float, quantity=0):\n",
        "        \n",
        "        assert price >= 0, f\"Price {price} is not greater than or equal to zero!\"\n",
        "        assert quantity >= 0, f\"Quantity {quantity} is not greater or equal to zero!\"\n",
        "\n",
        "        \n",
        "        self.name = name\n",
        "        self.price = price\n",
        "        self.quantity = quantity\n",
        "\n",
        "        \n",
        "        Item.all.append(self)\n",
        "\n",
        "    def calculate_total_price(self):\n",
        "        return self.price * self.quantity\n",
        "\n",
        "    def apply_discount(self):\n",
        "        self.price = self.price * self.pay_rate\n",
        "\n",
        "    def __repr__(self):\n",
        "        return f\"Item('{self.name}', {self.price}, {self.quantity})\"\n",
        "\n",
        "item1 = Item(\"Phone\", 100, 1)\n",
        "item2 = Item(\"Laptop\", 1000, 3)\n",
        "item3 = Item(\"Cable\", 10, 5)\n",
        "item4 = Item(\"Mouse\", 50, 5)\n",
        "item5 = Item(\"Keyboard\", 75, 5)\n",
        "\n",
        "print(Item.all)"
      ]
    }
  ]
}